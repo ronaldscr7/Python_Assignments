{
 "cells": [
  {
   "cell_type": "code",
   "execution_count": 78,
   "id": "64fe68cc",
   "metadata": {
    "scrolled": true
   },
   "outputs": [
    {
     "name": "stdout",
     "output_type": "stream",
     "text": [
      "          Date     Value\n",
      "0   2020-01-01  0.886238\n",
      "1   2020-01-02  0.155864\n",
      "2   2020-01-03  0.834128\n",
      "3   2020-01-06  0.155463\n",
      "4   2020-01-07  0.156131\n",
      "..         ...       ...\n",
      "270 2021-01-13  0.296578\n",
      "271 2021-01-14  0.272251\n",
      "272 2021-01-15  0.009493\n",
      "273 2021-01-18  0.687170\n",
      "275 2021-01-20  0.993973\n",
      "\n",
      "[221 rows x 2 columns]\n"
     ]
    }
   ],
   "source": [
    "import pandas as pd\n",
    "\n",
    "import numpy as np\n",
    "\n",
    "def generate_random_timeseries_data(proportion_to_delete=0.2):\n",
    "\n",
    "    # Create a date range for the year 2020,  + 20 business days \n",
    "\n",
    "    date_range = pd.date_range(start='2020-01-01', end='2021-01-20', freq='B')  # 'B' for business day frequency\n",
    "\n",
    "\n",
    "    # Generate random data for each business day\n",
    "\n",
    "    random_data = np.random.rand(len(date_range))\n",
    "    \n",
    "\n",
    "    # Create a DataFrame with the date and the generated random data\n",
    "\n",
    "    timeseries_data = pd.DataFrame({'Date': date_range, 'Value': random_data})\n",
    "    \n",
    "\n",
    "    # Randomly delete some observations based on the given proportion\n",
    "\n",
    "    num_observations_to_delete = int(proportion_to_delete * len(timeseries_data))\n",
    "\n",
    "    indices_to_delete = np.random.choice(timeseries_data.index, num_observations_to_delete, replace=False)\n",
    "\n",
    "    timeseries_data.drop(indices_to_delete, inplace=True)\n",
    "\n",
    "    # Find the missing indices\n",
    "    missing_indices = timeseries_data[timeseries_data['Value'].isnull()].index\n",
    "\n",
    "    # Replace the missing values with the nearest data\n",
    "    for idx in missing_indices:\n",
    "        distances = np.abs(timeseries_data.index - idx)\n",
    "        nearest_idx = distances.argmin()\n",
    "        nearest_value = timeseries_data.loc[nearest_idx, 'Value']\n",
    "        timeseries_data.loc[idx, 'Value'] = nearest_value\n",
    "\n",
    "    return timeseries_data\n",
    "\n",
    "#storing the timeseries_data in input_data\n",
    "input_data = generate_random_timeseries_data()\n",
    "print(input_data)"
   ]
  },
  {
   "cell_type": "code",
   "execution_count": 79,
   "id": "9e92e188",
   "metadata": {},
   "outputs": [
    {
     "name": "stdout",
     "output_type": "stream",
     "text": [
      "          Date  10-Day-Returns\n",
      "13  2020-01-20       -0.733025\n",
      "14  2020-01-21        2.499334\n",
      "15  2020-01-22        0.096764\n",
      "16  2020-01-23        2.261061\n",
      "17  2020-01-24       -0.085241\n",
      "..         ...             ...\n",
      "255 2020-12-23       -0.156625\n",
      "258 2020-12-28       -0.891606\n",
      "259 2020-12-29        0.216521\n",
      "260 2020-12-30       -0.387266\n",
      "261 2020-12-31       -0.816859\n",
      "\n",
      "[202 rows x 2 columns]\n"
     ]
    }
   ],
   "source": [
    "def find_nearest_date(target_date, date_list):\n",
    "   \n",
    "    nearest_date = min(date_list, key=lambda x: abs((x - target_date).days))\n",
    "    return nearest_date\n",
    "\n",
    "\n",
    "def calculate_10_business_day_returns(timeseries_data):\n",
    "    # Filter data for the period [2020-01-01, 2020-12-31]\n",
    "    start_date = pd.to_datetime('2020-01-01')\n",
    "    end_date = pd.to_datetime('2020-12-31')\n",
    "    filtered_data = timeseries_data[(timeseries_data['Date'] >= start_date) & (timeseries_data['Date'] <= end_date)]\n",
    "\n",
    "    # Calculate the 10-business-days returns\n",
    "    returns_series = filtered_data['Value'].pct_change(periods=10)\n",
    "\n",
    "    # Find the missing indices\n",
    "    missing_indices = returns_series[returns_series.isnull()].index\n",
    "\n",
    "    # Replace the missing values with the nearest non-missing data\n",
    "    for idx in missing_indices:\n",
    "        target_date = filtered_data.loc[idx, 'Date']\n",
    "        nearest_date = find_nearest_candidate(target_date, filtered_data['Date'])\n",
    "        nearest_value = filtered_data[filtered_data['Date'] == nearest_date]['Value'].iloc[0]\n",
    "        returns_series.loc[idx] = nearest_value\n",
    "\n",
    "    # Combine 'Date' and 'Returns Series' into a new DataFrame\n",
    "    returns_df = pd.DataFrame({'Date': filtered_data['Date'].iloc[10:], '10-Day-Returns': returns_series.iloc[10:]})\n",
    "\n",
    "    return returns_df\n",
    "\n",
    "\n",
    "def main():\n",
    "    # Generating the timeseries_data\n",
    "    input_data = generate_random_timeseries_data(proportion_to_delete=0.2)\n",
    "\n",
    "    # Call the calculate_10_business_day_returns function\n",
    "    returns_series = calculate_10_business_day_returns(input_data)\n",
    "    \n",
    "    print(returns_series)\n",
    "    \n",
    "    \n",
    "main()"
   ]
  },
  {
   "cell_type": "code",
   "execution_count": null,
   "id": "7ad136b0",
   "metadata": {},
   "outputs": [],
   "source": []
  },
  {
   "cell_type": "code",
   "execution_count": 3,
   "id": "db3a76e3",
   "metadata": {},
   "outputs": [],
   "source": []
  },
  {
   "cell_type": "code",
   "execution_count": null,
   "id": "e5423b51",
   "metadata": {},
   "outputs": [],
   "source": []
  },
  {
   "cell_type": "code",
   "execution_count": null,
   "id": "61916884",
   "metadata": {},
   "outputs": [],
   "source": []
  }
 ],
 "metadata": {
  "kernelspec": {
   "display_name": "Python 3 (ipykernel)",
   "language": "python",
   "name": "python3"
  },
  "language_info": {
   "codemirror_mode": {
    "name": "ipython",
    "version": 3
   },
   "file_extension": ".py",
   "mimetype": "text/x-python",
   "name": "python",
   "nbconvert_exporter": "python",
   "pygments_lexer": "ipython3",
   "version": "3.11.3"
  }
 },
 "nbformat": 4,
 "nbformat_minor": 5
}
