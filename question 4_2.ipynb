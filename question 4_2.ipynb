{
 "cells": [
  {
   "cell_type": "code",
   "execution_count": 3,
   "id": "164e33e1",
   "metadata": {},
   "outputs": [
    {
     "name": "stdout",
     "output_type": "stream",
     "text": [
      ">>> 1 + 2\n",
      "3.0\n",
      ">>> quit\n"
     ]
    }
   ],
   "source": [
    "#Raised when the formula is invalid.\n",
    "class FormulaError(Exception):\n",
    "    pass\n",
    "\n",
    "\n",
    "#Parse the user input and return the three elements.\n",
    "def parse_input(user_input):\n",
    "    try:\n",
    "        elements = user_input.split()\n",
    "        if len(elements) != 3:\n",
    "            raise FormulaError\n",
    "        n1 = float(elements[0])\n",
    "        op = elements[1]\n",
    "        n2 = float(elements[2])\n",
    "    except ValueError:\n",
    "        raise FormulaError\n",
    "\n",
    "    if op not in \"+-\": # removed */ as asked in question\n",
    "        raise FormulaError\n",
    "\n",
    "    return n1, op, n2\n",
    "\n",
    "\n",
    "#Calculate the result of the formula.\n",
    "def calculate(n1, op, n2):\n",
    "    if op == \"+\":\n",
    "        return n1 + n2\n",
    "    elif op == \"-\":\n",
    "        return n1 - n2\n",
    "    elif op == \"*\":\n",
    "        return n1 * n2\n",
    "    elif op == \"/\":\n",
    "        return n1 / n2\n",
    "\n",
    "\n",
    "#Start the calculator.\n",
    "def main():\n",
    "    while True:\n",
    "        user_input = input(\">>> \")\n",
    "        if user_input == \"quit\":\n",
    "            break\n",
    "        n1, op, n2 = parse_input(user_input)\n",
    "        result = calculate(n1, op, n2)\n",
    "        print(result)\n",
    "\n",
    "main()"
   ]
  },
  {
   "cell_type": "code",
   "execution_count": null,
   "id": "227f81a7",
   "metadata": {},
   "outputs": [],
   "source": []
  }
 ],
 "metadata": {
  "kernelspec": {
   "display_name": "Python 3 (ipykernel)",
   "language": "python",
   "name": "python3"
  },
  "language_info": {
   "codemirror_mode": {
    "name": "ipython",
    "version": 3
   },
   "file_extension": ".py",
   "mimetype": "text/x-python",
   "name": "python",
   "nbconvert_exporter": "python",
   "pygments_lexer": "ipython3",
   "version": "3.11.3"
  }
 },
 "nbformat": 4,
 "nbformat_minor": 5
}
