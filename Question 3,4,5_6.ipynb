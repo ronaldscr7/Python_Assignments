{
 "cells": [
  {
   "cell_type": "code",
   "execution_count": null,
   "id": "3114902b",
   "metadata": {},
   "outputs": [],
   "source": [
    "Question 3: Algorithm to find the first 100 twin primes:\n",
    "\n",
    "1. Initialize an empty list `twin_primes` to store the twin prime pairs, and an integer variable `count` to keep track of the\n",
    "number of twin prime pairs found.\n",
    "\n",
    "2. Initialize an integer variable `current_number` to 3, as twin primes always start with an odd number (the first known twin \n",
    "                                                                                                         primes are 3 and 5).\n",
    "\n",
    "3. Create a loop that continues until you find 100 twin prime pairs (i.e., `count` reaches 100).\n",
    "\n",
    "4. Inside the loop:\n",
    "   a. Check if `current_number` and `current_number - 2` are both prime numbers.\n",
    "      - If they are both prime, then:\n",
    "      b. Add the pair (`current_number - 2`, `current_number`) to the `twin_primes` list.\n",
    "      c. Increment the `count` by 1 to keep track of the number of twin prime pairs found.\n",
    "\n",
    "5. Increment `current_number` by 2, as you only need to check odd numbers for twin primes (even numbers greater than 2 are\n",
    "                                                                                           not prime).\n",
    "\n",
    "6. Repeat steps 4 and 5 until you have found 100 twin prime pairs.\n",
    "\n",
    "7. Once you have found 100 twin prime pairs, exit the loop.\n",
    "\n",
    "8. Return the `twin_primes` list, which now contains the first 100 twin prime pairs.\n",
    "\n",
    "This algorithm systematically checks pairs of odd numbers to determine if they are twin primes, and it continues until it\n",
    "has found 100 such pairs."
   ]
  },
  {
   "cell_type": "code",
   "execution_count": null,
   "id": "4a3bae2c",
   "metadata": {},
   "outputs": [],
   "source": []
  },
  {
   "cell_type": "code",
   "execution_count": null,
   "id": "a1be5482",
   "metadata": {},
   "outputs": [],
   "source": [
    "Question 4: The time complexity of the given code is O(n * log(n)).\n",
    "\n",
    "Explanation:\n",
    "1. The outer loop runs from `n//2` to `n`, which means it iterates approximately `n/2` times.\n",
    "\n",
    "2. The inner loop runs with `j` ranging from `2` to `n` with a step size of `pow(2, j)`. This means the inner loop will execute\n",
    "for `log2(n)` iterations because it doubles `j` in each iteration.\n",
    "\n",
    "3. Inside the inner loop, there are constant time operations.\n",
    "\n",
    "Combining these factors, the overall time complexity of the code is O((n/2) * log2(n)), which simplifies to O(n * log(n))."
   ]
  },
  {
   "cell_type": "code",
   "execution_count": null,
   "id": "99884222",
   "metadata": {},
   "outputs": [],
   "source": []
  },
  {
   "cell_type": "code",
   "execution_count": null,
   "id": "123945b5",
   "metadata": {},
   "outputs": [],
   "source": [
    "Question 5: The time complexity of the given code is O(n^2).\n",
    "\n",
    "Explanation:\n",
    "1. The outer loop runs from `0` to `n-1`, which results in `n` iterations.\n",
    "\n",
    "2. The inner loop runs from `0` to `i-1` where `i` is the current value of the outer loop variable. In the worst case,\n",
    "the inner loop will have to run for each value of `i` from `0` to `n-1`, resulting in a total of `1 + 2 + 3 + ... + (n-1)` \n",
    "iterations, which is equivalent to the sum of the first `n-1` natural numbers.\n",
    "\n",
    "3. The sum of the first `n-1` natural numbers can be expressed as (n-1) * (n-1 + 1) / 2 = (n-1) * n / 2.\n",
    "\n",
    "Combining these factors, the overall time complexity of the code is O(n) * O((n-1) * n / 2), which simplifies to O(n^2)."
   ]
  }
 ],
 "metadata": {
  "kernelspec": {
   "display_name": "Python 3 (ipykernel)",
   "language": "python",
   "name": "python3"
  },
  "language_info": {
   "codemirror_mode": {
    "name": "ipython",
    "version": 3
   },
   "file_extension": ".py",
   "mimetype": "text/x-python",
   "name": "python",
   "nbconvert_exporter": "python",
   "pygments_lexer": "ipython3",
   "version": "3.11.3"
  }
 },
 "nbformat": 4,
 "nbformat_minor": 5
}
