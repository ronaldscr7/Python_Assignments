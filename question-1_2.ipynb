{
 "cells": [
  {
   "cell_type": "code",
   "execution_count": null,
   "id": "c756e264",
   "metadata": {},
   "outputs": [],
   "source": []
  },
  {
   "cell_type": "code",
   "execution_count": 24,
   "id": "aa323360",
   "metadata": {},
   "outputs": [
    {
     "name": "stdout",
     "output_type": "stream",
     "text": [
      "Enter the real and imaginary parts of the first complex number separated by a space:\n",
      "2 3\n",
      "Enter the real and imaginary parts of the second complex number separated by a space:\n",
      "2 3\n",
      "Given input in complex number form:\n",
      "C = 2.00+3.00i\n",
      "D = 2.00+3.00i\n",
      "Results:\n",
      "C + D = 4.00+6.00i\n",
      "C - D = 0.00+0.00i\n",
      "C * D = -5.00+12.00i\n",
      "C / D = 1.00+0.00i\n",
      "mod(C) = 3.61+0.00i\n",
      "mod(D) = 3.61+0.00i\n"
     ]
    }
   ],
   "source": [
    "import math\n",
    "\n",
    "class ComplexNumber:\n",
    "    def __init__(self, real, imaginary):\n",
    "        self.real = real\n",
    "        self.imaginary = imaginary\n",
    "\n",
    "    def __str__(self):\n",
    "        if self.imaginary >= 0:\n",
    "            return f\"{self.real:.2f}+{self.imaginary:.2f}i\"\n",
    "        else:\n",
    "            return f\"{self.real:.2f}{self.imaginary:.2f}i\"\n",
    "\n",
    "    def __add__(self, other):\n",
    "        return ComplexNumber(self.real + other.real, self.imaginary + other.imaginary)\n",
    "\n",
    "    def __sub__(self, other):\n",
    "        return ComplexNumber(self.real - other.real, self.imaginary - other.imaginary)\n",
    "\n",
    "    def __mul__(self, other):\n",
    "        real = self.real * other.real - self.imaginary * other.imaginary\n",
    "        imaginary = self.real * other.imaginary + self.imaginary * other.real\n",
    "        return ComplexNumber(real, imaginary)\n",
    "\n",
    "    def conjugate(self):\n",
    "        return ComplexNumber(self.real, -self.imaginary)\n",
    "    \n",
    "    def __truediv__(self, other):\n",
    "# Multiply the numerator and denominator by the complex conjugate of other\n",
    "        numerator = self * other.conjugate()\n",
    "        denominator = other * other.conjugate()\n",
    "\n",
    "# Simplify the result\n",
    "        real_part = numerator.real / denominator.real\n",
    "        imaginary_part = numerator.imaginary / denominator.real\n",
    "\n",
    "        return ComplexNumber(real_part, imaginary_part)\n",
    "\n",
    "    def modulus(self):\n",
    "        return ComplexNumber(math.sqrt(self.real**2 + self.imaginary**2), 0)\n",
    "\n",
    "# Read input for the first complex number\n",
    "print(\"Enter the real and imaginary parts of the first complex number separated by a space:\")\n",
    "a, b = map(float, input().split())\n",
    "c1 = ComplexNumber(a, b)\n",
    "\n",
    "# Read input for the second complex number\n",
    "print(\"Enter the real and imaginary parts of the second complex number separated by a space:\")\n",
    "a, b = map(float, input().split())\n",
    "c2 = ComplexNumber(a, b)\n",
    "\n",
    "# Print the given input in complex number form\n",
    "print(\"Given input in complex number form:\")\n",
    "print(\"C =\", c1)\n",
    "print(\"D =\", c2)\n",
    "\n",
    "# Perform the required operations and print the output\n",
    "print(\"Results:\")\n",
    "print(\"C + D =\", c1 + c2)\n",
    "print(\"C - D =\", c1 - c2)\n",
    "print(\"C * D =\", c1 * c2)\n",
    "print(\"C / D =\", c1 / c2)\n",
    "print(\"mod(C) =\", c1.modulus())\n",
    "print(\"mod(D) =\", c2.modulus())\n"
   ]
  },
  {
   "cell_type": "code",
   "execution_count": null,
   "id": "0fee2824",
   "metadata": {},
   "outputs": [],
   "source": []
  },
  {
   "cell_type": "code",
   "execution_count": null,
   "id": "1b42356c",
   "metadata": {},
   "outputs": [],
   "source": []
  }
 ],
 "metadata": {
  "kernelspec": {
   "display_name": "Python 3 (ipykernel)",
   "language": "python",
   "name": "python3"
  },
  "language_info": {
   "codemirror_mode": {
    "name": "ipython",
    "version": 3
   },
   "file_extension": ".py",
   "mimetype": "text/x-python",
   "name": "python",
   "nbconvert_exporter": "python",
   "pygments_lexer": "ipython3",
   "version": "3.11.3"
  }
 },
 "nbformat": 4,
 "nbformat_minor": 5
}
