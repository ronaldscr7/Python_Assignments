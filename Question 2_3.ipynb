{
 "cells": [
  {
   "cell_type": "code",
   "execution_count": 4,
   "id": "34007647",
   "metadata": {
    "scrolled": true
   },
   "outputs": [],
   "source": [
    "import numpy as np\n",
    "from scipy.interpolate import CubicSpline\n",
    "\n",
    "#input dictionary of pnl_grid and shocks\n",
    "\n",
    "pnl_grid = {\n",
    "    506: ([0.465,0.05,0.345,0.629,0.289,0.05,0.243,0.822,0.665,0.856], [-220.983,-217.841,-220.074,-222.224,-219.65,-217.841,np.nan,-223.685,np.nan,-223.942]),\n",
    "    258: ([0.473,0.232,0.649,0.19,0.962,0.93,0.639,0.059,0.831,0.837], [-653.225,-654.91,-651.994,-655.203,-649.806,-650.03,-652.064,np.nan,-650.722,-650.68]),\n",
    "    358: ([0.97,0.836,0.031,0.831,0.634,0.56,0.046,0.094,0.202,0.198], [687.434,686.908,683.749,686.888,686.115,685.825,683.808,683.997,684.42,684.405]),\n",
    "    735: ([0.949,0.326,0.205,0.952,0.543,0.032,0.926,0.826,0.875,0.846], [-426.147,-428.488,-428.943,-426.136,-427.673,-429.593,-426.234,-426.609,np.nan,-426.534]),\n",
    "    166: ([0.041,0.48,0.575,0.09,0.412,0.12,0.584,0.306,0.981,0.649], [769.374,762.653,761.199,768.624,763.694,np.nan,761.061,np.nan,754.983,760.066]),\n",
    "    781: ([0.569,0.334,0.102,0.744,0.685,0.546,0.85,0.097,0.791,0.249], [-449.069,-448.246,np.nan,-449.682,np.nan,-448.989,-450.054,-447.416,-449.847,-447.948]),\n",
    "    789: ([0.864,0.536,0.223,0.578,0.646,0.147,0.401,0.535,0.51,0.69], [477.718,472.913,468.328,473.528,474.525,467.215,470.936,472.899,472.532,475.169]),\n",
    "    822: ([0.051,0.068,0.386,0.224,0.618,0.969,0.581,0.616,0.405,0.573], [-999.429,-999.695,-1004.679,-1002.14,-1008.315,-1013.816,-1007.735,-1008.284,-1004.977,-1007.61]),\n",
    "    728: ([0.605,0.18,0.575,0.316,0.723,0.911,0.98,0.291,0.823,0.63], [336.468,332.996,336.223,334.107,np.nan,338.968,339.531,333.903,338.249,336.672]),\n",
    "    725: ([0.76,0.703,0.223,0.785,0.211,0.48,0.644,0.551,0.871,0.275], [-204.815,-205.658,-212.755,np.nan,-212.933,-208.955,-206.53,-207.905,-203.174,-211.986]),\n",
    "}\n",
    "\n",
    "shocks = {\n",
    "    506: 0.486,\n",
    "    258: 0.661,\n",
    "    358: 0.371,\n",
    "    735: 0.293,\n",
    "    166: 0.203,\n",
    "    781: 0.633,\n",
    "    789: 0.529,\n",
    "    822: 0.86,\n",
    "    728: 0.038,\n",
    "    725: 0.886\n",
    "}"
   ]
  },
  {
   "cell_type": "code",
   "execution_count": 5,
   "id": "02a4baeb",
   "metadata": {},
   "outputs": [
    {
     "name": "stdout",
     "output_type": "stream",
     "text": [
      "Issuer ID: 506, Calculated PNL: -221.142\n",
      "Issuer ID: 258, Calculated PNL: -651.910\n",
      "Issuer ID: 358, Calculated PNL: 685.074\n",
      "Issuer ID: 735, Calculated PNL: -428.612\n",
      "Issuer ID: 166, Calculated PNL: 766.894\n",
      "Issuer ID: 781, Calculated PNL: -449.292\n",
      "Issuer ID: 789, Calculated PNL: 472.814\n",
      "Issuer ID: 822, Calculated PNL: -1011.900\n",
      "Issuer ID: 728, Calculated PNL: 331.823\n",
      "Issuer ID: 725, Calculated PNL: -202.953\n"
     ]
    }
   ],
   "source": [
    "# Step 1: Remove NaN values and infinite values from the pnl_grid dictionary\n",
    "for issuer_id, (shock_list, pnl_list) in pnl_grid.items():\n",
    "    valid_indices = np.isfinite(pnl_list)\n",
    "    pnl_grid[issuer_id] = (np.array(shock_list)[valid_indices], np.array(pnl_list)[valid_indices])\n",
    "\n",
    "\n",
    "# Step 2: Sort and make shock_list and pnl_list unique\n",
    "for issuer_id, (shock_list, pnl_list) in pnl_grid.items():\n",
    "    sorted_indices = np.argsort(shock_list)\n",
    "    shock_list_sorted = np.array(shock_list)[sorted_indices]\n",
    "    pnl_list_sorted = np.array(pnl_list)[sorted_indices]\n",
    "\n",
    "    # Make shock_list unique while maintaining its order\n",
    "    unique_indices = np.unique(shock_list_sorted, return_index=True)[1]\n",
    "    shock_list_unique = shock_list_sorted[unique_indices]\n",
    "    pnl_list_unique = pnl_list_sorted[unique_indices]\n",
    "\n",
    "    pnl_grid[issuer_id] = (shock_list_unique, pnl_list_unique)\n",
    "\n",
    "# Step 3: Interpolate and calculate pnl using CubicSpline\n",
    "calculated_pnls = {}\n",
    "for issuer_id, shock in shocks.items():\n",
    "    shock_list, pnl_list = pnl_grid[issuer_id]\n",
    "    cs = CubicSpline(shock_list, pnl_list)\n",
    "    pnl = cs(shock)\n",
    "    calculated_pnls[issuer_id] = pnl\n",
    "\n",
    "# Print the calculated pnls using lists\n",
    "for issuer_id, pnl in calculated_pnls.items():\n",
    "    print(f\"Issuer ID: {issuer_id}, Calculated PNL: {pnl:.3f}\")\n"
   ]
  },
  {
   "cell_type": "code",
   "execution_count": null,
   "id": "c4739db4",
   "metadata": {},
   "outputs": [],
   "source": []
  }
 ],
 "metadata": {
  "kernelspec": {
   "display_name": "Python 3 (ipykernel)",
   "language": "python",
   "name": "python3"
  },
  "language_info": {
   "codemirror_mode": {
    "name": "ipython",
    "version": 3
   },
   "file_extension": ".py",
   "mimetype": "text/x-python",
   "name": "python",
   "nbconvert_exporter": "python",
   "pygments_lexer": "ipython3",
   "version": "3.11.3"
  }
 },
 "nbformat": 4,
 "nbformat_minor": 5
}
