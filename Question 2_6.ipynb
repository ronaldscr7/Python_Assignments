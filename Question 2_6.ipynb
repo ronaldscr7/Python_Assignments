{
 "cells": [
  {
   "cell_type": "code",
   "execution_count": 12,
   "id": "7b975362",
   "metadata": {},
   "outputs": [
    {
     "name": "stdout",
     "output_type": "stream",
     "text": [
      "Enter the list of stock prices (comma-separated): 7,1,5,3,6,4\n",
      "The maximum profit is: 7.0\n"
     ]
    }
   ],
   "source": [
    "def max_profit(prices):\n",
    "    if not prices:\n",
    "        return 0\n",
    "\n",
    "    buy = -prices[0]  # Max profit if we buy the stock on day 0\n",
    "    sell = 0  # Max profit if we sell the stock on day 0\n",
    "\n",
    "    for price in prices:\n",
    "        prev_buy = buy\n",
    "        buy = max(buy, sell - price)  # Buy on the current day or do nothing\n",
    "        sell = max(sell, prev_buy + price)  # Sell on the current day or do nothing\n",
    "\n",
    "    return sell  # Maximum profit is when we sell the stock on the last day\n",
    "\n",
    "# Input list of prices from the user\n",
    "prices = [float(x) for x in input(\"Enter the list of stock prices (comma-separated): \").split(',')]\n",
    "\n",
    "result = max_profit(prices)\n",
    "print(f\"The maximum profit is: {result}\")\n"
   ]
  },
  {
   "cell_type": "code",
   "execution_count": null,
   "id": "9a4b3416",
   "metadata": {},
   "outputs": [],
   "source": []
  }
 ],
 "metadata": {
  "kernelspec": {
   "display_name": "Python 3 (ipykernel)",
   "language": "python",
   "name": "python3"
  },
  "language_info": {
   "codemirror_mode": {
    "name": "ipython",
    "version": 3
   },
   "file_extension": ".py",
   "mimetype": "text/x-python",
   "name": "python",
   "nbconvert_exporter": "python",
   "pygments_lexer": "ipython3",
   "version": "3.11.3"
  }
 },
 "nbformat": 4,
 "nbformat_minor": 5
}
