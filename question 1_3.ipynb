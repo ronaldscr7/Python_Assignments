{
 "cells": [
  {
   "cell_type": "code",
   "execution_count": 13,
   "id": "dafeb2dd",
   "metadata": {},
   "outputs": [
    {
     "name": "stdout",
     "output_type": "stream",
     "text": [
      "Enter a list of numbers separated by spaces: 2 2 2\n",
      "Product: [4. 4. 4.]\n"
     ]
    }
   ],
   "source": [
    "import numpy as np\n",
    "\n",
    "def product(nums):\n",
    "    c = np.product(nums, dtype=float)\n",
    "    for i in nums:\n",
    "        t = c / nums\n",
    "    return t \n",
    "\n",
    "# Take user input for the list of numbers\n",
    "input_str = input(\"Enter a list of numbers separated by spaces: \")\n",
    "nums = [float(num) for num in input_str.split()]\n",
    "\n",
    "# Calculate and print the product\n",
    "result = product(nums)\n",
    "print(\"Product:\",result)\n"
   ]
  },
  {
   "cell_type": "code",
   "execution_count": 17,
   "id": "afa69622",
   "metadata": {},
   "outputs": [
    {
     "name": "stdout",
     "output_type": "stream",
     "text": [
      "Enter a list of numbers separated by spaces: 2 0 2\n",
      "Product: [0.0, 0.0, 0.0]\n"
     ]
    }
   ],
   "source": [
    "import numpy as np\n",
    "\n",
    "def product(nums):\n",
    "    c = np.product(nums, dtype=float)\n",
    "    t = []\n",
    "    for i in nums:\n",
    "        if i != 0:  # Check for zero to avoid division by zero\n",
    "            t.append(c / i)\n",
    "        else:\n",
    "            t.append(i*i)  # Handle division by zero\n",
    "\n",
    "    return t\n",
    "\n",
    "# Take user input for the list of numbers\n",
    "input_str = input(\"Enter a list of numbers separated by spaces: \")\n",
    "nums = [float(num) for num in input_str.split()]\n",
    "\n",
    "# Calculate and print the product\n",
    "result = product(nums)\n",
    "print(\"Product:\", result)\n"
   ]
  },
  {
   "cell_type": "code",
   "execution_count": null,
   "id": "4dfcb1b3",
   "metadata": {},
   "outputs": [],
   "source": []
  },
  {
   "cell_type": "code",
   "execution_count": null,
   "id": "11582bf2",
   "metadata": {},
   "outputs": [],
   "source": []
  },
  {
   "cell_type": "code",
   "execution_count": null,
   "id": "436d8d8c",
   "metadata": {},
   "outputs": [],
   "source": []
  }
 ],
 "metadata": {
  "kernelspec": {
   "display_name": "Python 3 (ipykernel)",
   "language": "python",
   "name": "python3"
  },
  "language_info": {
   "codemirror_mode": {
    "name": "ipython",
    "version": 3
   },
   "file_extension": ".py",
   "mimetype": "text/x-python",
   "name": "python",
   "nbconvert_exporter": "python",
   "pygments_lexer": "ipython3",
   "version": "3.11.3"
  }
 },
 "nbformat": 4,
 "nbformat_minor": 5
}
