{
 "cells": [
  {
   "cell_type": "code",
   "execution_count": 1,
   "id": "a1ca1682",
   "metadata": {},
   "outputs": [
    {
     "name": "stdout",
     "output_type": "stream",
     "text": [
      "C process\n"
     ]
    }
   ],
   "source": [
    "# 2nd Structure:\n",
    "\n",
    "class A:\n",
    "    def process(self):\n",
    "        print(\"A process\")\n",
    "    pass\n",
    "        \n",
    "\n",
    "class B(A):\n",
    "    def process(self):\n",
    "        print(\"B process\")\n",
    "    pass\n",
    "\n",
    "class C(B,A):  \n",
    "    def process(self):\n",
    "        print(\"C process\")        \n",
    "    pass\n",
    "\n",
    "\"\"\"throwing a type error if its C(A,B):Cannot create a consistent method resolution order (MRO) for bases A, B.\n",
    "Because it violates the the property of inheritence if it goes to A and comes back to B.So thats why there is a type error.\"\"\"\n",
    "\n",
    "objc = C()\n",
    "objc.process()"
   ]
  },
  {
   "cell_type": "code",
   "execution_count": 2,
   "id": "b3c12890",
   "metadata": {},
   "outputs": [
    {
     "data": {
      "text/plain": [
       "[__main__.C, __main__.B, __main__.A, object]"
      ]
     },
     "execution_count": 2,
     "metadata": {},
     "output_type": "execute_result"
    }
   ],
   "source": [
    "C.mro()"
   ]
  },
  {
   "cell_type": "code",
   "execution_count": 3,
   "id": "b1a3f871",
   "metadata": {},
   "outputs": [
    {
     "name": "stdout",
     "output_type": "stream",
     "text": [
      "M process\n",
      "A process\n",
      "B process\n"
     ]
    }
   ],
   "source": [
    "# 1st Structure:\n",
    "\n",
    "class Object:\n",
    "    def process(self):\n",
    "        print(\"object process\")\n",
    "    pass\n",
    "        \n",
    "\n",
    "class X(Object):\n",
    "    def process(self):\n",
    "        print(\"X process\")\n",
    "    pass\n",
    "\n",
    "class Y(Object):  \n",
    "    def process(self):\n",
    "        print(\"Y process\")        \n",
    "    pass\n",
    "\n",
    "class Z(Object):\n",
    "    def process(self):\n",
    "        print(\"Z process\")\n",
    "    pass\n",
    "        \n",
    "\n",
    "class A(X,Y):\n",
    "    def process(self):\n",
    "        print(\"A process\")\n",
    "    pass\n",
    "\n",
    "class B(Y,Z):  \n",
    "    def process(self):\n",
    "        print(\"B process\")        \n",
    "    pass\n",
    "\n",
    "class M(A,B,Z):\n",
    "    def process(self):\n",
    "        print(\"M process\")\n",
    "    pass\n",
    "\n",
    "\"\"\"Ideally it should be M,A,B,Z according to the priority given. But it is M,A,X,B,Y,Z. Its beacause if it goes to B first as \n",
    "given in priority, then it cannot goto X, as there is no possibility in the structure given. And the property of inheritence is\n",
    "that child is dervived from parent but not vice-versa.\n",
    "\n",
    "And after M,A,X,B it goes to Y but not Z, beacuse if it goes to Z, there is no chance of it going to Y according to inheritance \n",
    "property. But it can go from Y to Z, since we mentioned Z in the priority.\"\"\"\n",
    "\n",
    "objm = M()\n",
    "objm.process()\n",
    "\n",
    "obja=A()\n",
    "obja.process()\n",
    "\n",
    "objb=B()\n",
    "objb.process()\n",
    "\n"
   ]
  },
  {
   "cell_type": "code",
   "execution_count": 4,
   "id": "b34897a0",
   "metadata": {},
   "outputs": [
    {
     "name": "stdout",
     "output_type": "stream",
     "text": [
      "[<class '__main__.M'>, <class '__main__.A'>, <class '__main__.X'>, <class '__main__.B'>, <class '__main__.Y'>, <class '__main__.Z'>, <class '__main__.Object'>, <class 'object'>]\n",
      "[<class '__main__.A'>, <class '__main__.X'>, <class '__main__.Y'>, <class '__main__.Object'>, <class 'object'>]\n",
      "[<class '__main__.B'>, <class '__main__.Y'>, <class '__main__.Z'>, <class '__main__.Object'>, <class 'object'>]\n"
     ]
    }
   ],
   "source": [
    "print(M.mro())\n",
    "print(A.mro())\n",
    "print(B.mro())\n"
   ]
  },
  {
   "cell_type": "code",
   "execution_count": null,
   "id": "93872175",
   "metadata": {},
   "outputs": [],
   "source": []
  },
  {
   "cell_type": "code",
   "execution_count": null,
   "id": "7b5955d7",
   "metadata": {},
   "outputs": [],
   "source": []
  }
 ],
 "metadata": {
  "kernelspec": {
   "display_name": "Python 3 (ipykernel)",
   "language": "python",
   "name": "python3"
  },
  "language_info": {
   "codemirror_mode": {
    "name": "ipython",
    "version": 3
   },
   "file_extension": ".py",
   "mimetype": "text/x-python",
   "name": "python",
   "nbconvert_exporter": "python",
   "pygments_lexer": "ipython3",
   "version": "3.11.3"
  }
 },
 "nbformat": 4,
 "nbformat_minor": 5
}
