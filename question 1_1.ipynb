{
 "cells": [
  {
   "cell_type": "code",
   "execution_count": 6,
   "id": "2847e0ee",
   "metadata": {},
   "outputs": [],
   "source": [
    "stock_portfolio = {\n",
    "    'RELIANCE': { 'shares': 100, 'purchase_price': 2300.00},\n",
    "    'TCS': {'shares': 100,'purchase_price': 3500.00}    \n",
    "}\n"
   ]
  },
  {
   "cell_type": "code",
   "execution_count": 7,
   "id": "667f1ea8",
   "metadata": {},
   "outputs": [
    {
     "name": "stdout",
     "output_type": "stream",
     "text": [
      "{'RELIANCE': {'shares': 100, 'purchase_price': 2300.0}, 'TCS': {'shares': 200, 'purchase_price': 3550.0}, 'INFY': {'shares': 100, 'purchase_price': 1300.0}}\n"
     ]
    }
   ],
   "source": [
    "def buy_stock(stock_symbol, no_of_shares, purchase_price):\n",
    "    if stock_symbol in stock_portfolio:\n",
    "        # If the stock symbol already exists in the portfolio\n",
    "        current_shares = stock_portfolio[stock_symbol]['shares']\n",
    "        current_purchase_price = stock_portfolio[stock_symbol]['purchase_price']\n",
    "        \n",
    "        total_shares = current_shares + no_of_shares\n",
    "        total_investment = current_shares * current_purchase_price + no_of_shares * purchase_price\n",
    "        \n",
    "        average_purchase_price = total_investment / total_shares\n",
    "        stock_portfolio[stock_symbol]['shares'] = total_shares\n",
    "        stock_portfolio[stock_symbol]['purchase_price'] = average_purchase_price\n",
    "    else:\n",
    "        # If the stock symbol doesn't exist in the portfolio, add a new entry\n",
    "       stock_portfolio[stock_symbol] = {'shares': no_of_shares, 'purchase_price': purchase_price}\n",
    "    \n",
    "#buying_stocks\n",
    "buy_stock('TCS',100,3600.00)  \n",
    "buy_stock('INFY',100,1300.00)  \n",
    "\n",
    "print(stock_portfolio)\n"
   ]
  },
  {
   "cell_type": "code",
   "execution_count": 8,
   "id": "83eb1ce2",
   "metadata": {},
   "outputs": [
    {
     "name": "stdout",
     "output_type": "stream",
     "text": [
      "MRF is not present in the portfolio.\n",
      "{'RELIANCE': {'shares': 100, 'purchase_price': 2300.0}, 'TCS': {'shares': 150, 'purchase_price': 3550.0}, 'INFY': {'shares': 100, 'purchase_price': 1300.0}}\n"
     ]
    }
   ],
   "source": [
    "def sell_stock(stock_symbol, no_of_shares_to_sell):\n",
    "    if stock_symbol in stock_portfolio:\n",
    "        current_shares = stock_portfolio[stock_symbol]['shares']\n",
    "\n",
    "        if no_of_shares_to_sell <= current_shares:\n",
    "            # Update the number of shares in the portfolio\n",
    "            stock_portfolio[stock_symbol]['shares'] -= no_of_shares_to_sell\n",
    "\n",
    "            # If all shares are sold\n",
    "            if stock_portfolio[stock_symbol]['shares'] == 0:\n",
    "                del stock_portfolio[stock_symbol]\n",
    "        else:\n",
    "            print(f\"Not enough shares of {stock_symbol} to sell.\")\n",
    "    else:\n",
    "        print(f\"{stock_symbol} is not present in the portfolio.\")\n",
    "\n",
    "# Selling stocks\n",
    "sell_stock('TCS', 50)\n",
    "sell_stock('MRF', 50)  # Trying to sell non-existent stock\n",
    "\n",
    "\n",
    "print(stock_portfolio)\n"
   ]
  },
  {
   "cell_type": "code",
   "execution_count": 10,
   "id": "22fed34d",
   "metadata": {},
   "outputs": [
    {
     "name": "stdout",
     "output_type": "stream",
     "text": [
      "Current portfolio value: 954204.8\n"
     ]
    }
   ],
   "source": [
    "import random\n",
    "def calculate_portfolio_value(stock_portfolio):\n",
    "    total_value = 0.0\n",
    "\n",
    "    for stock_symbol, stock_info in stock_portfolio.items():\n",
    "        purchase_price = stock_info['purchase_price']\n",
    "        random_percentage = random.uniform(-20, 20) / 100\n",
    "        current_price = purchase_price + (purchase_price * random_percentage)\n",
    "        no_of_shares = stock_info['shares']\n",
    "        stock_value = current_price * no_of_shares\n",
    "        total_value += stock_value\n",
    "\n",
    "    return total_value\n",
    "\n",
    "portfolio_value = calculate_portfolio_value(stock_portfolio)\n",
    "print(\"Current portfolio value:\", round(portfolio_value,2))\n"
   ]
  },
  {
   "cell_type": "code",
   "execution_count": 12,
   "id": "4a2f041a",
   "metadata": {
    "scrolled": true
   },
   "outputs": [
    {
     "name": "stdout",
     "output_type": "stream",
     "text": [
      "Initial portfolio value: 942089.43\n",
      "Current portfolio value: 911356.25\n",
      "Portfolio performance: -3.26 %\n"
     ]
    }
   ],
   "source": [
    "def calculate_portfolio_value(stock_portfolio):\n",
    "    total_value = 0.0\n",
    "    for stock_symbol, stock_info in stock_portfolio.items():\n",
    "        purchase_price = stock_info['purchase_price']\n",
    "        random_percentage = random.uniform(-20, 20) / 100\n",
    "        current_price = purchase_price + (purchase_price * random_percentage)\n",
    "        no_of_shares = stock_info['shares']\n",
    "        stock_value = current_price * no_of_shares\n",
    "        total_value += stock_value\n",
    "    \n",
    "    return total_value\n",
    "\n",
    "def portfolio_performance(initial_value, current_value):\n",
    "    percentage_change = ((current_value - initial_value) / initial_value) * 100\n",
    "    return percentage_change\n",
    "\n",
    "initial_portfolio_value = calculate_portfolio_value(stock_portfolio)\n",
    "print(\"Initial portfolio value:\", round(initial_portfolio_value,2))\n",
    "\n",
    "# some changes in stock prices have occurred over the period\n",
    "current_portfolio_value = calculate_portfolio_value(stock_portfolio)\n",
    "print(\"Current portfolio value:\", round(current_portfolio_value,2))\n",
    "\n",
    "performance = portfolio_performance(initial_portfolio_value, current_portfolio_value)\n",
    "print(\"Portfolio performance:\", round(performance,2),\"%\")\n"
   ]
  },
  {
   "cell_type": "code",
   "execution_count": null,
   "id": "529640a9",
   "metadata": {},
   "outputs": [],
   "source": []
  },
  {
   "cell_type": "code",
   "execution_count": null,
   "id": "82b45c91",
   "metadata": {},
   "outputs": [],
   "source": []
  },
  {
   "cell_type": "code",
   "execution_count": null,
   "id": "22495964",
   "metadata": {},
   "outputs": [],
   "source": []
  }
 ],
 "metadata": {
  "kernelspec": {
   "display_name": "Python 3 (ipykernel)",
   "language": "python",
   "name": "python3"
  },
  "language_info": {
   "codemirror_mode": {
    "name": "ipython",
    "version": 3
   },
   "file_extension": ".py",
   "mimetype": "text/x-python",
   "name": "python",
   "nbconvert_exporter": "python",
   "pygments_lexer": "ipython3",
   "version": "3.11.3"
  }
 },
 "nbformat": 4,
 "nbformat_minor": 5
}
