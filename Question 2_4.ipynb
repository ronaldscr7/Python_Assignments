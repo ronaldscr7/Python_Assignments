{
 "cells": [
  {
   "cell_type": "code",
   "execution_count": null,
   "id": "e8d332fd",
   "metadata": {},
   "outputs": [],
   "source": []
  },
  {
   "cell_type": "code",
   "execution_count": 6,
   "id": "de2ea6ee",
   "metadata": {},
   "outputs": [
    {
     "name": "stdout",
     "output_type": "stream",
     "text": [
      "[*********************100%***********************]  1 of 1 completed\n",
      "[*********************100%***********************]  1 of 1 completed\n",
      "[*********************100%***********************]  1 of 1 completed\n",
      "  Holding Period AAPL - 99.0% VaR GOOGL - 99.0% VaR META - 99.0% VaR  \\\n",
      "0          1 day           -4.92%            -4.82%           -6.33%   \n",
      "1          2 day           -7.30%            -6.36%           -8.48%   \n",
      "2          5 day          -10.28%           -10.01%          -14.68%   \n",
      "3         10 day          -13.77%           -12.40%          -21.40%   \n",
      "\n",
      "  AAPL - 95.0% VaR GOOGL - 95.0% VaR META - 95.0% VaR AAPL - 90.0% VaR  \\\n",
      "0           -2.71%            -2.65%           -3.53%           -1.90%   \n",
      "1           -3.87%            -3.81%           -4.87%           -2.70%   \n",
      "2           -5.83%            -5.77%           -7.39%           -4.06%   \n",
      "3           -8.49%            -7.68%           -9.86%           -6.14%   \n",
      "\n",
      "  GOOGL - 90.0% VaR META - 90.0% VaR  \n",
      "0            -1.88%           -2.33%  \n",
      "1            -2.68%           -3.35%  \n",
      "2            -4.00%           -5.07%  \n",
      "3            -5.28%           -6.87%  \n"
     ]
    }
   ],
   "source": [
    "import yfinance as yf\n",
    "import pandas as pd\n",
    "import numpy as np\n",
    "\n",
    "# Step 1: Download close prices\n",
    "def download_close_prices(ticker, years):\n",
    "    end_date = pd.Timestamp.today()\n",
    "    start_date = end_date - pd.DateOffset(years=years)\n",
    "    data = yf.download(ticker, start=start_date, end=end_date)\n",
    "    return data['Close']\n",
    "\n",
    "apple_close = download_close_prices('AAPL', 10)\n",
    "google_close = download_close_prices('GOOGL', 10)\n",
    "meta_close = download_close_prices('META', 10)\n",
    "\n",
    "# Step 2: Merge dataframes on Date\n",
    "merged_df = pd.concat([apple_close, google_close, meta_close], axis=1)\n",
    "merged_df.columns = ['AAPL', 'GOOGL', 'META']\n",
    "\n",
    "# Step 3: Calculate log returns\n",
    "log_returns = np.log(merged_df / merged_df.shift(1)) * 100  #log returns multiplied by 100 to get in % values\n",
    "\n",
    "# Step 4: Calculate VaR percentiles\n",
    "def calculate_var(returns, confidence_level):\n",
    "    return returns.quantile(1 - confidence_level)\n",
    "\n",
    "confidence_levels = [0.99, 0.95, 0.90]\n",
    "holding_periods = [1, 2, 5, 10]  # days\n",
    "\n",
    "# Create a dictionary to store VaR results\n",
    "var_results = {period: {} for period in holding_periods}\n",
    "for stock in log_returns.columns:\n",
    "    for period in holding_periods:\n",
    "        var_results[period][stock] = {confidence_level: calculate_var(log_returns[stock].rolling(period).sum(), confidence_level) for confidence_level in confidence_levels}\n",
    "\n",
    "# Create the summary dataframe\n",
    "data = []\n",
    "for period in holding_periods:\n",
    "    row = {'Holding Period': f'{period} day'}\n",
    "    for confidence_level in confidence_levels:\n",
    "        for stock in log_returns.columns:\n",
    "            var_value = var_results[period][stock][confidence_level]\n",
    "            row[f'{stock} - {confidence_level * 100}% VaR'] = f'{var_value:.2f}%'  \n",
    "    data.append(row)\n",
    "\n",
    "summary_df = pd.DataFrame(data)\n",
    "\n",
    "# Print summary dataframe\n",
    "print(summary_df)\n"
   ]
  },
  {
   "cell_type": "code",
   "execution_count": null,
   "id": "e45c8b9d",
   "metadata": {},
   "outputs": [],
   "source": []
  }
 ],
 "metadata": {
  "kernelspec": {
   "display_name": "Python 3 (ipykernel)",
   "language": "python",
   "name": "python3"
  },
  "language_info": {
   "codemirror_mode": {
    "name": "ipython",
    "version": 3
   },
   "file_extension": ".py",
   "mimetype": "text/x-python",
   "name": "python",
   "nbconvert_exporter": "python",
   "pygments_lexer": "ipython3",
   "version": "3.11.3"
  }
 },
 "nbformat": 4,
 "nbformat_minor": 5
}
