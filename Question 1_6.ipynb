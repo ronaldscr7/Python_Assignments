{
 "cells": [
  {
   "cell_type": "code",
   "execution_count": null,
   "id": "dd1c6c4c",
   "metadata": {},
   "outputs": [],
   "source": [
    "def closest_sum_pair(arr, target):\n",
    "    left, right = 0, len(arr) - 1\n",
    "    closest_sum = float('int')\n",
    "    result = None\n",
    "\n",
    "    while left < right:\n",
    "        current_sum = arr[left] + arr[right]\n",
    "        if abs(current_sum - target) < abs(closest_sum - target):\n",
    "            closest_sum = current_sum\n",
    "            result = (arr[left], arr[right])\n",
    "\n",
    "        if current_sum < target:\n",
    "            left += 1\n",
    "        else:\n",
    "            right -= 1\n",
    "\n",
    "    return result\n",
    "\n",
    "# Input array from the user\n",
    "arr = [int(x) for x in input(\"Enter a sorted array of integers (space-separated): \").split()]\n",
    "\n",
    "# Input target number from the user\n",
    "target = int(input(\"Enter the target number: \"))\n",
    "\n",
    "result = closest_sum_pair(arr, target)\n",
    "if result:\n",
    "    print(f\"The closest pair to {target} is {result}\")\n",
    "else:\n",
    "    print(\"No pair found.\")\n"
   ]
  },
  {
   "cell_type": "code",
   "execution_count": null,
   "id": "7d41e9aa",
   "metadata": {},
   "outputs": [],
   "source": [
    "# The time complexity of this solution is O(n) because in the worst case, we traverse the array once, where n is the number of\n",
    "# elements in the array."
   ]
  }
 ],
 "metadata": {
  "kernelspec": {
   "display_name": "Python 3 (ipykernel)",
   "language": "python",
   "name": "python3"
  },
  "language_info": {
   "codemirror_mode": {
    "name": "ipython",
    "version": 3
   },
   "file_extension": ".py",
   "mimetype": "text/x-python",
   "name": "python",
   "nbconvert_exporter": "python",
   "pygments_lexer": "ipython3",
   "version": "3.11.3"
  }
 },
 "nbformat": 4,
 "nbformat_minor": 5
}
